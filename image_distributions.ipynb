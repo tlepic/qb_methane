{
 "cells": [
  {
   "cell_type": "code",
   "execution_count": null,
   "metadata": {},
   "outputs": [],
   "source": [
    "import tifffile\n",
    "import os\n",
    "import matplotlib.pyplot as plt\n",
    "import random\n",
    "import pandas as pd\n",
    "import requests\n",
    "from datetime import datetime"
   ]
  },
  {
   "cell_type": "code",
   "execution_count": null,
   "metadata": {},
   "outputs": [],
   "source": [
    "metada = pd.read_csv(\"data/train_data/metadata.csv\")\n",
    "result = metada[metada[\"path\"] == \"images/plume/20230223_methane_mixing_ratio_id_6675\"][\n",
    "    [\"coord_x\", \"coord_y\"]\n",
    "]\n",
    "coord_x_value = result[\"coord_x\"].iloc[0]\n",
    "coord_y_value = result[\"coord_y\"].iloc[0]\n",
    "coord_x_value"
   ]
  },
  {
   "cell_type": "code",
   "execution_count": null,
   "metadata": {},
   "outputs": [],
   "source": [
    "data_dir = \"data/train_data/images/plume/\"\n",
    "im_list = os.listdir(data_dir)\n",
    "random_images = random.sample(im_list, 30)\n",
    "metada = pd.read_csv(\"data/train_data/metadata.csv\")\n",
    "\n",
    "fig, axes = plt.subplots(3, 10, figsize=(12, 6))\n",
    "\n",
    "for i, images in enumerate(random_images):\n",
    "    # Open the TIFF image using tifffile\n",
    "    with tifffile.TiffFile(data_dir + images) as tif:\n",
    "        # Access the image data\n",
    "        image_data = tif.asarray()\n",
    "\n",
    "    desired_path = \"images/plume/\" + images\n",
    "\n",
    "    result = metada[metada[\"path\"] == desired_path[:-4]]\n",
    "    coord_x_value = result[\"coord_x\"].iloc[0]\n",
    "    coord_y_value = result[\"coord_y\"].iloc[0]\n",
    "    longitude = result[\"lon\"].iloc[0]\n",
    "    latitude = result[\"lat\"].iloc[0]\n",
    "    date = result[\"date\"].iloc[0]\n",
    "    print(date)\n",
    "    formatted_date = datetime.strptime(str(date), \"%Y%m%d\").strftime(\"%YYYY-%mm-%dd\")\n",
    "    url = (\n",
    "        \"https://api.open-meteo.com/v1/forecast?latitude=\"\n",
    "        + str(latitude)\n",
    "        + \"&longitude=\"\n",
    "        + str(longitude)\n",
    "        + \"&daily=windspeed_10m_max,winddirection_10m_dominant&timezone=Europe%2FLondon&start_date=\"\n",
    "        + str(date)\n",
    "        + \"&end_date=\"+ str(date)\"\n",
    "    )\n",
    "    response = requests.get(url)\n",
    "    dico = response.json()\n",
    "    print(dico)\n",
    "    print(dico[\"daily\"][\"windspeed_10m_max\"])\n",
    "    # Plot the image in the appropriate subplot\n",
    "    row = i // 10\n",
    "    col = i % 10\n",
    "    ax = axes[row, col]\n",
    "    ax.imshow(image_data, cmap=\"gray\")\n",
    "    ax.scatter(coord_x_value, coord_y_value)\n",
    "    ax.set_title(f\"Image {i + 1}\")\n",
    "    ax.axis(\"off\")\n",
    "\n",
    "fig, axes = plt.subplots(3, 10, figsize=(12, 6))\n",
    "\n",
    "for i, images in enumerate(random_images):\n",
    "    # Open the TIFF image using tifffile\n",
    "    with tifffile.TiffFile(data_dir + images) as tif:\n",
    "        # Access the image data\n",
    "        image_data = tif.asarray()\n",
    "\n",
    "    # Plot the image in the appropriate subplot\n",
    "    row = i // 10\n",
    "    col = i % 10\n",
    "    ax = axes[row, col]\n",
    "    ax.hist(image_data.flatten(), bins=100)\n",
    "    ax.set_title(f\"Image {i + 1}\")"
   ]
  },
  {
   "cell_type": "code",
   "execution_count": null,
   "metadata": {},
   "outputs": [],
   "source": [
    "data_dir = \"data/train_data/images/no_plume/\"\n",
    "im_list = os.listdir(data_dir)\n",
    "random_images = random.sample(im_list, 30)\n",
    "metada = pd.read_csv(\"data/train_data/metadata.csv\")\n",
    "\n",
    "fig, axes = plt.subplots(3, 10, figsize=(12, 6))\n",
    "\n",
    "for i, images in enumerate(random_images):\n",
    "    # Open the TIFF image using tifffile\n",
    "    with tifffile.TiffFile(data_dir + images) as tif:\n",
    "        # Access the image data\n",
    "        image_data = tif.asarray()\n",
    "\n",
    "    desired_path = \"images/no_plume/\" + images\n",
    "    result = metada[metada[\"path\"] == desired_path[:-4]][[\"coord_x\", \"coord_y\"]]\n",
    "    coord_x_value = result[\"coord_x\"].iloc[0]\n",
    "    coord_y_value = result[\"coord_y\"].iloc[0]\n",
    "    # Plot the image in the appropriate subplot\n",
    "    row = i // 10\n",
    "    col = i % 10\n",
    "    ax = axes[row, col]\n",
    "    ax.imshow(image_data, cmap=\"gray\")\n",
    "    ax.scatter(coord_x_value, coord_y_value)\n",
    "    ax.set_title(f\"Image {i + 1}\")\n",
    "    ax.axis(\"off\")\n",
    "\n",
    "fig, axes = plt.subplots(3, 10, figsize=(12, 6))\n",
    "\n",
    "for i, images in enumerate(random_images):\n",
    "    # Open the TIFF image using tifffile\n",
    "    with tifffile.TiffFile(data_dir + images) as tif:\n",
    "        # Access the image data\n",
    "        image_data = tif.asarray()\n",
    "\n",
    "    # Plot the image in the appropriate subplot\n",
    "    row = i // 10\n",
    "    col = i % 10\n",
    "    ax = axes[row, col]\n",
    "    ax.hist(image_data.flatten(), bins=100)\n",
    "    ax.set_title(f\"Image {i + 1}\")"
   ]
  },
  {
   "cell_type": "code",
   "execution_count": null,
   "metadata": {},
   "outputs": [],
   "source": [
    "import requests"
   ]
  },
  {
   "cell_type": "code",
   "execution_count": null,
   "metadata": {},
   "outputs": [],
   "source": [
    "url = \"https://api.open-meteo.com/v1/forecast?latitude=52.52&longitude=13.41&daily=windspeed_10m_max,winddirection_10m_dominant&timezone=Europe%2FLondon&start_date=2023-08-05&end_date=2023-08-05\"\n",
    "response = requests.get(url)"
   ]
  },
  {
   "cell_type": "code",
   "execution_count": null,
   "metadata": {},
   "outputs": [],
   "source": [
    "dico = response.json()"
   ]
  },
  {
   "cell_type": "code",
   "execution_count": null,
   "metadata": {},
   "outputs": [],
   "source": [
    "dico[\"daily\"][\"windspeed_10m_max\"]\n",
    "dico[\"daily\"][\"winddirection_10m_dominant\"]"
   ]
  },
  {
   "cell_type": "code",
   "execution_count": null,
   "metadata": {},
   "outputs": [],
   "source": [
    "dico[\"daily\"].keys()"
   ]
  },
  {
   "cell_type": "code",
   "execution_count": null,
   "metadata": {},
   "outputs": [],
   "source": [
    "from datetime import datetime\n",
    "\n",
    "# Input date string\n",
    "date_string = \"20230213\"\n",
    "\n",
    "# Convert to the desired format\n",
    "formatted_date = datetime.strptime(date_string, \"%Y%m%d\").strftime(\"%Y-%m-%d\")\n",
    "\n",
    "print(str(formatted_date))"
   ]
  },
  {
   "cell_type": "code",
   "execution_count": null,
   "metadata": {},
   "outputs": [],
   "source": []
  }
 ],
 "metadata": {
  "kernelspec": {
   "display_name": "qb_methane",
   "language": "python",
   "name": "python3"
  },
  "language_info": {
   "codemirror_mode": {
    "name": "ipython",
    "version": 3
   },
   "file_extension": ".py",
   "mimetype": "text/x-python",
   "name": "python",
   "nbconvert_exporter": "python",
   "pygments_lexer": "ipython3",
   "version": "3.8.18"
  }
 },
 "nbformat": 4,
 "nbformat_minor": 2
}
