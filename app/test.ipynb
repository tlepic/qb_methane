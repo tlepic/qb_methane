{
 "cells": [
  {
   "cell_type": "code",
   "execution_count": null,
   "metadata": {},
   "outputs": [],
   "source": [
    "import pandas as pd\n",
    "df = pd.read_csv(\"data/train_data/metadata.csv\")"
   ]
  },
  {
   "cell_type": "code",
   "execution_count": null,
   "metadata": {},
   "outputs": [],
   "source": [
    "df['color'] = df['plume'].apply(lambda x: '#0000FF' if x == 'yes' else '#FF0000')"
   ]
  },
  {
   "cell_type": "code",
   "execution_count": null,
   "metadata": {},
   "outputs": [],
   "source": [
    "df"
   ]
  },
  {
   "cell_type": "code",
   "execution_count": null,
   "metadata": {},
   "outputs": [],
   "source": [
    "image_name = \"20230105_methane_mixing_ratio_id_4690.tif\"\n",
    "image_id = image_name[-8:-4]\n",
    "image_id"
   ]
  },
  {
   "cell_type": "code",
   "execution_count": null,
   "metadata": {},
   "outputs": [],
   "source": [
    "import requests\n",
    "\n",
    "API_KEY = \n",
    "LATITUDE = 37.7749\n",
    "LONGITUDE = -122.4194\n",
    "\n",
    "\n",
    "response = requests.get(url)\n",
    "with open(\"satellite_image.jpg\", \"wb\") as file:\n",
    "    file.write(response.content)"
   ]
  },
  {
   "cell_type": "code",
   "execution_count": null,
   "metadata": {},
   "outputs": [],
   "source": [
    "import matplotlib.pyplot as plt\n",
    "from mpl_toolkits.basemap import Basemap\n",
    "\n",
    "def plot_satellite_image(latitude, longitude):\n",
    "    fig = plt.figure(figsize=(10, 10))\n",
    "    m = Basemap(epsg=3857, projection='merc', llcrnrlat=latitude-0.003, urcrnrlat=latitude+0.003, llcrnrlon=longitude-0.003, urcrnrlon=longitude+0.003, resolution='h')\n",
    "    m.arcgisimage(service='World_Imagery', xpixels=1000, verbose=False)\n",
    "    plt.savefig('satellite_image.png')  # Save the plotted image\n",
    "    plt.show()\n",
    "\n",
    "latitude = 23.802\n",
    "longitude = 90.261\n",
    "\n",
    "plot_satellite_image(latitude, longitude)"
   ]
  }
 ],
 "metadata": {
  "kernelspec": {
   "display_name": "base",
   "language": "python",
   "name": "python3"
  },
  "language_info": {
   "codemirror_mode": {
    "name": "ipython",
    "version": 3
   },
   "file_extension": ".py",
   "mimetype": "text/x-python",
   "name": "python",
   "nbconvert_exporter": "python",
   "pygments_lexer": "ipython3",
   "version": "3.8.18"
  }
 },
 "nbformat": 4,
 "nbformat_minor": 2
}
